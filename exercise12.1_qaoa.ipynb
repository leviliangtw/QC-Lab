{
 "cells": [
  {
   "cell_type": "markdown",
   "metadata": {},
   "source": [
    "# Quantum Approximation Optimization Algorithm (QAOA)\n",
    "\n",
    "Implementation and simulation of the QAOA algorithm, demonstrated via the Max-Cut problem.\n",
    "\n",
    "Reference:\n",
    "- E. Farhi, J. Goldstone, S. Gutmann: \"A Quantum Approximate Optimization Algorithm\", [arXiv:1411.4028](http://arxiv.org/abs/1411.4028) (2014)"
   ]
  },
  {
   "cell_type": "code",
   "execution_count": 1,
   "metadata": {},
   "outputs": [],
   "source": [
    "# implementation based on NumPy and SciPy\n",
    "import numpy as np\n",
    "from scipy.optimize import minimize\n",
    "# matrix exponential\n",
    "from scipy.linalg import expm"
   ]
  },
  {
   "cell_type": "code",
   "execution_count": 2,
   "metadata": {},
   "outputs": [],
   "source": [
    "import matplotlib.pyplot as plt\n",
    "%matplotlib inline\n",
    "plt.rcParams['figure.dpi'] = 125"
   ]
  },
  {
   "cell_type": "markdown",
   "metadata": {},
   "source": [
    "## General definitions and utility functions"
   ]
  },
  {
   "cell_type": "code",
   "execution_count": 3,
   "metadata": {},
   "outputs": [],
   "source": [
    "# Pauli matrices\n",
    "Xmat = np.array([[0,  1 ], [1,  0]])\n",
    "Ymat = np.array([[0, -1j], [1j, 0]])\n",
    "Zmat = np.array([[1,  0 ], [0, -1]])"
   ]
  },
  {
   "cell_type": "code",
   "execution_count": 4,
   "metadata": {},
   "outputs": [],
   "source": [
    "def single_site_operator(op, j, n):\n",
    "    \"\"\"\n",
    "    Construct the operator `op_j`, i.e., `op` acting on the j-th qubit (zero-based),\n",
    "    for a quantum system consisting of `n` qubits.\n",
    "    \"\"\"\n",
    "    # Kronecker products with identity matrices acting on the remaining qubits\n",
    "    return np.kron(np.identity(2**(n-j-1)), np.kron(op, np.identity(2**j)))"
   ]
  },
  {
   "cell_type": "code",
   "execution_count": 5,
   "metadata": {},
   "outputs": [
    {
     "data": {
      "text/plain": [
       "array([[0., 0., 1., 0., 0., 0., 0., 0.],\n",
       "       [0., 0., 0., 1., 0., 0., 0., 0.],\n",
       "       [1., 0., 0., 0., 0., 0., 0., 0.],\n",
       "       [0., 1., 0., 0., 0., 0., 0., 0.],\n",
       "       [0., 0., 0., 0., 0., 0., 1., 0.],\n",
       "       [0., 0., 0., 0., 0., 0., 0., 1.],\n",
       "       [0., 0., 0., 0., 1., 0., 0., 0.],\n",
       "       [0., 0., 0., 0., 0., 1., 0., 0.]])"
      ]
     },
     "execution_count": 5,
     "metadata": {},
     "output_type": "execute_result"
    }
   ],
   "source": [
    "# example: X_1 (Pauli X acting on qubit 1; counting starts from 0)\n",
    "single_site_operator(Xmat, 1, 3)"
   ]
  },
  {
   "cell_type": "code",
   "execution_count": 6,
   "metadata": {},
   "outputs": [],
   "source": [
    "def two_site_operator(op1, op2, i, j, n):\n",
    "    \"\"\"\n",
    "    Construct the operator `op1_i op2_j`, i.e., `op1` acting on the i-th qubit\n",
    "    and `op2` acting on the j-th qubit (counting is zero-based) .\n",
    "    \"\"\"\n",
    "    if i > j:\n",
    "        # flip i <-> j\n",
    "        return two_site_operator(op2, op1, j, i, n)\n",
    "    # Kronecker products with identity matrices acting on the remaining qubits\n",
    "    return np.kron(np.identity(2**(n-j-1)),\n",
    "           np.kron(op2,\n",
    "           np.kron(np.identity(2**(j-i-1)),\n",
    "           np.kron(op1, np.identity(2**i)))))"
   ]
  },
  {
   "cell_type": "code",
   "execution_count": 7,
   "metadata": {},
   "outputs": [
    {
     "data": {
      "text/plain": [
       "array([[ 0.,  1.,  0.,  0.,  0.,  0.,  0.,  0.],\n",
       "       [ 1.,  0.,  0.,  0.,  0.,  0.,  0.,  0.],\n",
       "       [ 0.,  0.,  0.,  1.,  0.,  0.,  0.,  0.],\n",
       "       [ 0.,  0.,  1.,  0.,  0.,  0.,  0.,  0.],\n",
       "       [ 0.,  0.,  0.,  0., -0., -1., -0., -0.],\n",
       "       [ 0.,  0.,  0.,  0., -1., -0., -0., -0.],\n",
       "       [ 0.,  0.,  0.,  0., -0., -0., -0., -1.],\n",
       "       [ 0.,  0.,  0.,  0., -0., -0., -1., -0.]])"
      ]
     },
     "execution_count": 7,
     "metadata": {},
     "output_type": "execute_result"
    }
   ],
   "source": [
    "# example: X_0 Z_2\n",
    "two_site_operator(Xmat, Zmat, 0, 2, 3)"
   ]
  },
  {
   "cell_type": "markdown",
   "metadata": {},
   "source": [
    "## Definition of the optimization problem"
   ]
  },
  {
   "cell_type": "markdown",
   "metadata": {},
   "source": [
    "The target function\n",
    "\\begin{equation}\n",
    "C(b) = \\sum_{\\alpha=1}^m C_{\\alpha}(b) \\quad \\text{with} \\quad C_{\\alpha}(b) \\in \\{ 0, {\\color{orange}{1}} \\}\n",
    "\\end{equation}\n",
    "should be maximized with respect to bit strings $b = b_{n-1} \\dots b_1 b_0$ of length $n$."
   ]
  },
  {
   "cell_type": "markdown",
   "metadata": {},
   "source": [
    "We consider _Max-Cut_ as specific example: for a given graph with $n$ vertices and $m$ edges, the task is to partition its vertices into two subsets $\\color{blue}{S_0}$ and $\\color{green}{S_1}$, such that the number of edges between these subsets is maximized."
   ]
  },
  {
   "attachments": {},
   "cell_type": "markdown",
   "metadata": {},
   "source": [
    "<img src=\"attachment:ad4c1b87-f8e4-4a96-90d8-8c86ee7ceefd.png\" width=\"300\"/>"
   ]
  },
  {
   "cell_type": "markdown",
   "metadata": {},
   "source": [
    "Expressed in terms of the above target function, for $j = 0, 1, \\dots, n-1$, the entry $b_j \\in \\{ \\color{blue}{0}, \\color{green}{1} \\}$ specifies whether the $j$-th vertex belongs to subset $\\color{blue}{S_0}$ or $\\color{green}{S_1}$. For the $\\alpha$-th edge, we define $\\mathsf{C}_{\\alpha}$ as"
   ]
  },
  {
   "attachments": {},
   "cell_type": "markdown",
   "metadata": {},
   "source": [
    "<img src=\"attachment:4acb1364-ad60-4922-8368-8fa47c695f3d.png\" width=\"400\"/>"
   ]
  },
  {
   "cell_type": "markdown",
   "metadata": {},
   "source": [
    "## Quantum formulation"
   ]
  },
  {
   "cell_type": "markdown",
   "metadata": {},
   "source": [
    "Term $C_{\\alpha}$ of target function in quantum language:\n",
    "\\begin{equation}\n",
    "C_{\\alpha} = \\frac{1}{2} (I - Z_j Z_k),\n",
    "\\end{equation}\n",
    "with $j$ and $k$ the vertices corresponding to the $\\alpha$-th edge in the graph. Each basis state $\\lvert b \\rangle$ is an eigenvector of $C_{\\alpha}$ with eigenvalue $\\mathsf{C}_{\\alpha}(b)$."
   ]
  },
  {
   "cell_type": "markdown",
   "metadata": {},
   "source": [
    "Accordingly, the target function operator reads $C = \\sum_{\\alpha = 1}^m C_{\\alpha}$ (which is diagonal with respect to the standard basis)."
   ]
  },
  {
   "cell_type": "code",
   "execution_count": 8,
   "metadata": {},
   "outputs": [],
   "source": [
    "def construct_C_graph(edges, nvertices):\n",
    "    \"\"\"\n",
    "    Construct the `C` operator given the graph edges.\n",
    "    \"\"\"\n",
    "    C = np.zeros((2**nvertices, 2**nvertices))\n",
    "    #\n",
    "    # TODO: implement the construction of `C` here.\n",
    "    for edge in edges: \n",
    "        C += (np.identity(2**nvertices) - two_site_operator(Zmat, Zmat, edge[0], edge[1], nvertices))\n",
    "    C *= 0.5\n",
    "    # The function `two_site_operator` defined above might be useful.\n",
    "    #\n",
    "    return C"
   ]
  },
  {
   "cell_type": "code",
   "execution_count": 9,
   "metadata": {},
   "outputs": [],
   "source": [
    "# graph edges corresponding to the above graph\n",
    "graph_edges = [(0, 1), (1, 2), (1, 3), (2, 4), (3, 4)]"
   ]
  },
  {
   "cell_type": "code",
   "execution_count": 10,
   "metadata": {},
   "outputs": [
    {
     "data": {
      "text/plain": [
       "array([[0., 0., 0., ..., 0., 0., 0.],\n",
       "       [0., 1., 0., ..., 0., 0., 0.],\n",
       "       [0., 0., 3., ..., 0., 0., 0.],\n",
       "       ...,\n",
       "       [0., 0., 0., ..., 3., 0., 0.],\n",
       "       [0., 0., 0., ..., 0., 1., 0.],\n",
       "       [0., 0., 0., ..., 0., 0., 0.]])"
      ]
     },
     "execution_count": 10,
     "metadata": {},
     "output_type": "execute_result"
    }
   ],
   "source": [
    "# example\n",
    "construct_C_graph(graph_edges, 5)"
   ]
  },
  {
   "cell_type": "code",
   "execution_count": 11,
   "metadata": {},
   "outputs": [
    {
     "data": {
      "text/plain": [
       "0.0"
      ]
     },
     "execution_count": 11,
     "metadata": {},
     "output_type": "execute_result"
    }
   ],
   "source": [
    "# as consistency check, this should give zero\n",
    "np.linalg.norm(np.diag(construct_C_graph(graph_edges, 5)) \n",
    "               - np.array([0, 1, 3, 2, 2, 3, 3, 2, 2, 3, 3, 2, 4, 5, 3, 2, 2, 3, 5, 4, 2, 3, 3, 2, 2, 3, 3, 2, 2, 3, 1, 0]))"
   ]
  },
  {
   "cell_type": "markdown",
   "metadata": {},
   "source": [
    "The QAOA Ansatz may be motivated by the [adiabatic theorem](https://en.wikipedia.org/wiki/Adiabatic_theorem), stating that a wavefunction remains an instantaneous eigenstate of a Hamiltonian $H(t)$, if $H(t)$ is slowly (adiabatically) changing with time $t$. Here we want to transition from a \"simple\", easy to construct eigenstate of some operator $B$, to the maximizing eigenstate of the target operator $C$. We setup the transition from $B$ to $C$ as $H(t) = \\left(1 - \\frac{t}{T}\\right) B + \\frac{t}{T} C$ for $t \\in [0, T]$."
   ]
  },
  {
   "cell_type": "markdown",
   "metadata": {},
   "source": [
    "The operator $B$ is chosen as\n",
    "\\begin{equation*}\n",
    "B = \\sum_{j=0}^{n-1} X_j\n",
    "\\end{equation*}\n",
    "with $X_j$ the Pauli-$X$ matrix acting on qubit $j$."
   ]
  },
  {
   "cell_type": "code",
   "execution_count": 12,
   "metadata": {},
   "outputs": [],
   "source": [
    "def construct_B(n):\n",
    "    #\n",
    "    # TODO: implement the construction of `B` here.\n",
    "    B = np.zeros((2**n, 2**n))\n",
    "    for i in range(n):\n",
    "        B += single_site_operator(Xmat, i, n)\n",
    "    # The function `single_site_operator` defined above might be useful.\n",
    "    #\n",
    "    return B"
   ]
  },
  {
   "cell_type": "code",
   "execution_count": 13,
   "metadata": {},
   "outputs": [
    {
     "data": {
      "text/plain": [
       "array([[0., 1., 1., 0., 1., 0., 0., 0.],\n",
       "       [1., 0., 0., 1., 0., 1., 0., 0.],\n",
       "       [1., 0., 0., 1., 0., 0., 1., 0.],\n",
       "       [0., 1., 1., 0., 0., 0., 0., 1.],\n",
       "       [1., 0., 0., 0., 0., 1., 1., 0.],\n",
       "       [0., 1., 0., 0., 1., 0., 0., 1.],\n",
       "       [0., 0., 1., 0., 1., 0., 0., 1.],\n",
       "       [0., 0., 0., 1., 0., 1., 1., 0.]])"
      ]
     },
     "execution_count": 13,
     "metadata": {},
     "output_type": "execute_result"
    }
   ],
   "source": [
    "# example\n",
    "construct_B(3)"
   ]
  },
  {
   "cell_type": "markdown",
   "metadata": {},
   "source": [
    "The largest eigenvalue of $B$ is $n$ (since each $X_j$ in the sum contributes the value $1$):"
   ]
  },
  {
   "cell_type": "code",
   "execution_count": 14,
   "metadata": {},
   "outputs": [
    {
     "data": {
      "text/plain": [
       "[0.0, 0.0, 1.3322676295501878e-15, 1.7763568394002505e-15, 0.0]"
      ]
     },
     "execution_count": 14,
     "metadata": {},
     "output_type": "execute_result"
    }
   ],
   "source": [
    "# check\n",
    "[abs(max(np.linalg.eigvalsh(construct_B(n))) - n) for n in range(1, 6)]"
   ]
  },
  {
   "cell_type": "markdown",
   "metadata": {},
   "source": [
    "The eigenvector of $B$ corresponding to its largest eigenvalue is the uniform superposition state:\n",
    "\\begin{equation}\n",
    "\\lvert s \\rangle = \\lvert + \\rangle^{\\otimes n} = \\frac{1}{\\sqrt{2^n}} \\sum_{b=0}^{2^n - 1} \\lvert b \\rangle.\n",
    "\\end{equation}"
   ]
  },
  {
   "cell_type": "code",
   "execution_count": 15,
   "metadata": {},
   "outputs": [],
   "source": [
    "def uniform_state(n):\n",
    "    return np.ones(2**n) / np.sqrt(2**n)"
   ]
  },
  {
   "cell_type": "code",
   "execution_count": 16,
   "metadata": {},
   "outputs": [
    {
     "data": {
      "text/plain": [
       "[0.0, 0.0, 0.0, 0.0, 0.0]"
      ]
     },
     "execution_count": 16,
     "metadata": {},
     "output_type": "execute_result"
    }
   ],
   "source": [
    "# check; `@` here is the matrix-vector multiplication\n",
    "[np.linalg.norm(construct_B(n) @ uniform_state(n) - n * uniform_state(n)) for n in range(1, 6)]"
   ]
  },
  {
   "cell_type": "markdown",
   "metadata": {},
   "source": [
    "According to the Schrödinger equation, a time step $\\tau$ governed by a time-independent Hamiltonian $H$ is described by the unitary matrix $e^{-i \\tau H}$. Even if $H$ slowly changes with time, $e^{-i \\tau H(t)}$ is still a good approximation. Together with a splitting approximation for the matrix exponential, $e^{A + B} \\approx e^A e^B$ for matrices $A$ and $B$ with small norm, we arrive at $e^{-i \\tau H(t)} \\approx e^{-i \\tau (1 - \\frac{t}{T}) B} \\, e^{- i \\tau \\frac{t}{T} C}$ to describe a time step. This motivates the following Ansatz to find the maximizing eigenstate of $C$:\n",
    "\\begin{equation}\n",
    "\\lvert\\psi_p(\\gamma, \\beta)\\rangle = e^{-i \\beta_p B} e^{-i \\gamma_p C} \\cdots e^{-i \\beta_1 B} e^{-i \\gamma_1 C} \\lvert s \\rangle\n",
    "\\end{equation}\n",
    "with real parameters $\\beta_1, \\dots, \\beta_p$ and $\\gamma_1, \\dots, \\gamma_p$. The number of steps $p$ can be tuned depending on the application."
   ]
  },
  {
   "cell_type": "markdown",
   "metadata": {},
   "source": [
    "Note: we simulate the construction of $\\lvert\\psi_p(\\gamma, \\beta)\\rangle$ here, but this would be performed on an actual quantum computer."
   ]
  },
  {
   "cell_type": "code",
   "execution_count": 17,
   "metadata": {},
   "outputs": [],
   "source": [
    "def construct_wavefunction(B, C, βlist, γlist):\n",
    "    ψ = uniform_state(int(np.round(np.log2(len(B)))))\n",
    "    for β, γ in zip(βlist, γlist):\n",
    "        # `expm` is the matrix exponential; note: could also use `expm_multiply` here\n",
    "        ψ = expm(-1j*β*B) @ (expm(-1j*γ*C) @ ψ)\n",
    "    return ψ"
   ]
  },
  {
   "cell_type": "code",
   "execution_count": 18,
   "metadata": {},
   "outputs": [],
   "source": [
    "# concrete β and γ coefficients for p = 4, as demonstration (not yet optimized)\n",
    "βtest = np.array([0.583, 0.642, 0.460, 0.117])\n",
    "γtest = np.array([0.358, 0.062, 0.674, 0.266])"
   ]
  },
  {
   "cell_type": "code",
   "execution_count": 19,
   "metadata": {},
   "outputs": [
    {
     "data": {
      "text/plain": [
       "array([ 0.10420792-0.09266675j,  0.11046161-0.12469971j,\n",
       "        0.16155338-0.05549021j, -0.00070425+0.0452742j ,\n",
       "        0.10118325-0.05473328j,  0.09813634+0.06172629j,\n",
       "        0.19570626+0.16255694j,  0.03152425+0.12481626j,\n",
       "        0.10118325-0.05473328j,  0.09813634+0.06172629j,\n",
       "        0.19570626+0.16255694j,  0.03152425+0.12481626j,\n",
       "        0.22524696+0.04080912j,  0.32130973-0.09682553j,\n",
       "        0.17361823+0.06072469j,  0.03877029-0.07263473j,\n",
       "        0.03877029-0.07263473j,  0.17361823+0.06072469j,\n",
       "        0.32130973-0.09682553j,  0.22524696+0.04080912j,\n",
       "        0.03152425+0.12481626j,  0.19570626+0.16255694j,\n",
       "        0.09813634+0.06172629j,  0.10118325-0.05473328j,\n",
       "        0.03152425+0.12481626j,  0.19570626+0.16255694j,\n",
       "        0.09813634+0.06172629j,  0.10118325-0.05473328j,\n",
       "       -0.00070425+0.0452742j ,  0.16155338-0.05549021j,\n",
       "        0.11046161-0.12469971j,  0.10420792-0.09266675j])"
      ]
     },
     "execution_count": 19,
     "metadata": {},
     "output_type": "execute_result"
    }
   ],
   "source": [
    "# example\n",
    "ψtest = construct_wavefunction(construct_B(5), construct_C_graph(graph_edges, 5), βtest, γtest)\n",
    "ψtest"
   ]
  },
  {
   "cell_type": "code",
   "execution_count": 20,
   "metadata": {},
   "outputs": [
    {
     "data": {
      "text/plain": [
       "0.9999999999999999"
      ]
     },
     "execution_count": 20,
     "metadata": {},
     "output_type": "execute_result"
    }
   ],
   "source": [
    "# check: should be normalized\n",
    "np.linalg.norm(ψtest)"
   ]
  },
  {
   "cell_type": "markdown",
   "metadata": {},
   "source": [
    "In practice, one performs parameter optimization to maximize the expectation value\n",
    "\\begin{equation}\n",
    "\\langle\\psi_p(\\gamma, \\beta)\\rvert C \\lvert\\psi_p(\\gamma, \\beta)\\rangle,\n",
    "\\end{equation}\n",
    "such that $\\lvert\\psi_p(\\gamma, \\beta)\\rangle$ approaches the optimal solution $\\lvert b^{\\text{opt}} \\rangle$ (or a superposition in case there are several optimizers). The preparation of $\\lvert\\psi_p(\\gamma, \\beta)\\rangle$ and evaluation of the expectation value is to be performed on a quantum computer, and the parameter optimization on a classical computer. A standard measurement of $\\lvert\\psi_p(\\gamma, \\beta)\\rangle$ then results in $b^{\\text{opt}}$ with high probability."
   ]
  },
  {
   "cell_type": "code",
   "execution_count": 21,
   "metadata": {},
   "outputs": [],
   "source": [
    "def target_expval(B, C, βlist, γlist):\n",
    "    ψ = construct_wavefunction(B, C, βlist, γlist)\n",
    "    #\n",
    "    # TODO: calculate the expectation value here (only the real part, such that the optimization works);\n",
    "    result = np.vdot(ψ, np.dot(C, ψ))\n",
    "    # `np.vdot` might be useful.\n",
    "    #\n",
    "    return result"
   ]
  },
  {
   "cell_type": "code",
   "execution_count": 22,
   "metadata": {},
   "outputs": [
    {
     "data": {
      "text/plain": [
       "4.47545209131181e-16"
      ]
     },
     "execution_count": 22,
     "metadata": {},
     "output_type": "execute_result"
    }
   ],
   "source": [
    "# as consistency check, this should give zero\n",
    "abs(target_expval(construct_B(5), construct_C_graph(graph_edges, 5), βtest, γtest) - 3.190692998486455)"
   ]
  },
  {
   "cell_type": "markdown",
   "metadata": {},
   "source": [
    "## Perform optimization    "
   ]
  },
  {
   "cell_type": "markdown",
   "metadata": {},
   "source": [
    "We call minimize with the negated target function to achieve maximization."
   ]
  },
  {
   "cell_type": "code",
   "execution_count": 23,
   "metadata": {},
   "outputs": [],
   "source": [
    "# setting p = 2\n",
    "p = 2"
   ]
  },
  {
   "cell_type": "code",
   "execution_count": 24,
   "metadata": {},
   "outputs": [
    {
     "name": "stderr",
     "output_type": "stream",
     "text": [
      "C:\\Users\\leviliang\\anaconda3\\envs\\pt17_py37\\lib\\site-packages\\scipy\\optimize\\optimize.py:723: ComplexWarning: Casting complex values to real discards the imaginary part\n",
      "  fsim[k] = func(sim[k])\n",
      "C:\\Users\\leviliang\\anaconda3\\envs\\pt17_py37\\lib\\site-packages\\scipy\\optimize\\optimize.py:774: ComplexWarning: Casting complex values to real discards the imaginary part\n",
      "  fsim[-1] = fxcc\n",
      "C:\\Users\\leviliang\\anaconda3\\envs\\pt17_py37\\lib\\site-packages\\scipy\\optimize\\optimize.py:748: ComplexWarning: Casting complex values to real discards the imaginary part\n",
      "  fsim[-1] = fxe\n",
      "C:\\Users\\leviliang\\anaconda3\\envs\\pt17_py37\\lib\\site-packages\\scipy\\optimize\\optimize.py:755: ComplexWarning: Casting complex values to real discards the imaginary part\n",
      "  fsim[-1] = fxr\n",
      "C:\\Users\\leviliang\\anaconda3\\envs\\pt17_py37\\lib\\site-packages\\scipy\\optimize\\optimize.py:751: ComplexWarning: Casting complex values to real discards the imaginary part\n",
      "  fsim[-1] = fxr\n",
      "C:\\Users\\leviliang\\anaconda3\\envs\\pt17_py37\\lib\\site-packages\\scipy\\optimize\\optimize.py:764: ComplexWarning: Casting complex values to real discards the imaginary part\n",
      "  fsim[-1] = fxc\n"
     ]
    },
    {
     "name": "stdout",
     "output_type": "stream",
     "text": [
      "Optimization terminated successfully.\n",
      "         Current function value: -4.489135\n",
      "         Iterations: 324\n",
      "         Function evaluations: 544\n"
     ]
    }
   ],
   "source": [
    "# 'x' contains both the list of β and γ coefficients\n",
    "res = minimize(lambda x: -target_expval(construct_B(5), construct_C_graph(graph_edges, 5), x[0:p], x[p:2*p]), np.zeros(2*p), method='Nelder-Mead', options={'disp': True})"
   ]
  },
  {
   "cell_type": "code",
   "execution_count": 25,
   "metadata": {},
   "outputs": [
    {
     "data": {
      "text/plain": [
       "array([0.57237586, 0.37491969, 0.70723124, 1.0780721 ])"
      ]
     },
     "execution_count": 25,
     "metadata": {},
     "output_type": "execute_result"
    }
   ],
   "source": [
    "res.x"
   ]
  },
  {
   "cell_type": "code",
   "execution_count": 26,
   "metadata": {},
   "outputs": [],
   "source": [
    "# corresponding optimized quantum wavefunction\n",
    "ψopt = construct_wavefunction(construct_B(5), construct_C_graph(graph_edges, 5), res.x[0:p], res.x[p:2*p])"
   ]
  },
  {
   "cell_type": "code",
   "execution_count": 27,
   "metadata": {},
   "outputs": [
    {
     "data": {
      "image/png": "[encoded data removed]",
      "text/plain": [
       "<Figure size 750x500 with 1 Axes>"
      ]
     },
     "metadata": {
      "needs_background": "light"
     },
     "output_type": "display_data"
    }
   ],
   "source": [
    "plt.bar(range(2**5), abs(ψopt)**2)\n",
    "plt.xticks(range(2**5), ['{0:{fill}5b}'.format(b, fill='0') for b in range(2**5)], rotation=90)\n",
    "plt.ylabel(r'$|\\psi|^2$');"
   ]
  },
  {
   "cell_type": "markdown",
   "metadata": {},
   "source": [
    "Note that there are actually two optimal solutions, $b^{\\text{opt}} = 01101$ and $b^{\\text{opt}} = 10010$ (since one can swap the role of $\\color{blue}{S_0}$ and $\\color{green}{S_1}$), which indeed occur with the highest probability."
   ]
  }
 ],
 "metadata": {
  "kernelspec": {
   "display_name": "Python 3",
   "language": "python",
   "name": "python3"
  },
  "language_info": {
   "codemirror_mode": {
    "name": "ipython",
    "version": 3
   },
   "file_extension": ".py",
   "mimetype": "text/x-python",
   "name": "python",
   "nbconvert_exporter": "python",
   "pygments_lexer": "ipython3",
   "version": "3.7.9"
  }
 },
 "nbformat": 4,
 "nbformat_minor": 4
}
