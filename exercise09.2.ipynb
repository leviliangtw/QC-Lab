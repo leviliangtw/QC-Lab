{
 "cells": [
  {
   "cell_type": "markdown",
   "metadata": {},
   "source": [
    "# Exercise 9.2"
   ]
  },
  {
   "cell_type": "markdown",
   "metadata": {},
   "source": [
    "### (d) Finally, compute the inverse Fourier transform $F^{\\dagger}|X^{\\prime}\\rangle$, and plot the probability distribution of the result. \n",
    "Hint: You can use the following Python code for this purpose, where you still have to insert $|X^{\\prime}\\rangle$ represented as vector. Because\n",
    "of di\u000b",
    "erent conventions, we use NumPy's forward Fourier transform here."
   ]
  },
  {
   "cell_type": "code",
   "execution_count": 1,
   "metadata": {},
   "outputs": [
    {
     "data": {
      "image/png": "[encoded data removed]",
      "text/plain": [
       "<Figure size 432x288 with 1 Axes>"
      ]
     },
     "metadata": {
      "needs_background": "light"
     },
     "output_type": "display_data"
    }
   ],
   "source": [
    "import numpy as np\n",
    "import matplotlib.pyplot as plt\n",
    "\n",
    "Chi_prime_indices = np.array([2, 6, 10, 14, 18, 22, 26, 30])\n",
    "\n",
    "chip = np.zeros([32])\n",
    "chip[Chi_prime_indices] = 1\n",
    "chip /= np.sqrt(8)\n",
    "\n",
    "Fchip = np.fft.fft(chip, norm='ortho')\n",
    "plt.locator_params('x',nbins=32)\n",
    "plt.plot(np.abs(Fchip)**2, '.')\n",
    "plt.show()"
   ]
  },
  {
   "cell_type": "markdown",
   "metadata": {},
   "source": [
    "From the result above, we get $4$ points with the equal probability of $0.25$: \n",
    "$$\n",
    "\\begin{eqnarray*}\n",
    "l &=& 0 \\Rightarrow \\dfrac{0}{2^5} = 0 = \\dfrac{s}{r} \\\\\n",
    "l &=& 8 \\Rightarrow \\dfrac{8}{2^5} = \\dfrac{8}{32} = \\dfrac{1}{4} = \\dfrac{s}{r} \\\\\n",
    "l &=& 16 \\Rightarrow \\dfrac{16}{2^5} = \\dfrac{16}{32} = \\dfrac{1}{2} = \\dfrac{s}{r} \\\\\n",
    "l &=& 24 \\Rightarrow \\dfrac{24}{2^5} = \\dfrac{24}{32} = \\dfrac{3}{4} = \\dfrac{s}{r} \\\\\n",
    "\\end{eqnarray*}\n",
    "$$\n",
    "Thus, \n",
    "$$\n",
    "s \\in \\{0, 1, 2, 3\\},\\, r = 4\n",
    "$$"
   ]
  }
 ],
 "metadata": {
  "kernelspec": {
   "display_name": "Python 3",
   "language": "python",
   "name": "python3"
  },
  "language_info": {
   "codemirror_mode": {
    "name": "ipython",
    "version": 3
   },
   "file_extension": ".py",
   "mimetype": "text/x-python",
   "name": "python",
   "nbconvert_exporter": "python",
   "pygments_lexer": "ipython3",
   "version": "3.7.9"
  }
 },
 "nbformat": 4,
 "nbformat_minor": 4
}
