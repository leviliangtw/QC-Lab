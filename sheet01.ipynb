{
 "cells": [
  {
   "cell_type": "code",
   "execution_count": 1,
   "metadata": {},
   "outputs": [],
   "source": [
    "import numpy as np"
   ]
  },
  {
   "cell_type": "code",
   "execution_count": 2,
   "metadata": {},
   "outputs": [],
   "source": [
    "X = np.array([[0+0j, 1+0j], [1+0j, 0+0j]])\n",
    "Y = np.array([[0+0j, 0-1j], [0+1j, 0+0j]])\n",
    "Z = np.array([[1+0j, 0+0j], [0+0j, -1+0j]])"
   ]
  },
  {
   "cell_type": "code",
   "execution_count": 3,
   "metadata": {},
   "outputs": [
    {
     "name": "stdout",
     "output_type": "stream",
     "text": [
      "[[ 0.+0.j  0.+0.j  0.-1.j  0.+0.j]\n",
      " [ 0.+0.j -0.+0.j  0.+0.j  0.+1.j]\n",
      " [ 0.+1.j  0.+0.j  0.+0.j  0.+0.j]\n",
      " [ 0.+0.j -0.-1.j  0.+0.j -0.+0.j]]\n"
     ]
    }
   ],
   "source": [
    "# np.tensordot(Y,Z, axes=0)\n",
    "result = np.kron(Y,Z)\n",
    "print(result)"
   ]
  }
 ],
 "metadata": {
  "kernelspec": {
   "display_name": "Python 3",
   "language": "python",
   "name": "python3"
  },
  "language_info": {
   "codemirror_mode": {
    "name": "ipython",
    "version": 3
   },
   "file_extension": ".py",
   "mimetype": "text/x-python",
   "name": "python",
   "nbconvert_exporter": "python",
   "pygments_lexer": "ipython3",
   "version": "3.7.9"
  }
 },
 "nbformat": 4,
 "nbformat_minor": 4
}
