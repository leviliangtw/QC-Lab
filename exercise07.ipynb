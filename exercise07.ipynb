{
 "cells": [
  {
   "cell_type": "markdown",
   "metadata": {},
   "source": [
    "# Exercise 7.2"
   ]
  },
  {
   "cell_type": "code",
   "execution_count": 1,
   "metadata": {},
   "outputs": [],
   "source": [
    "import numpy as np"
   ]
  },
  {
   "cell_type": "markdown",
   "metadata": {},
   "source": [
    "### (a)"
   ]
  },
  {
   "cell_type": "code",
   "execution_count": 2,
   "metadata": {},
   "outputs": [],
   "source": [
    "def partial_trace(rho, dimA, dimB):\n",
    "    rho_tensor=rho.reshape((dimA, dimB, dimA, dimB))\n",
    "    return (np.trace(rho_tensor, axis1=1, axis2=3), np.trace(rho_tensor, axis1=0, axis2=2))"
   ]
  },
  {
   "cell_type": "markdown",
   "metadata": {},
   "source": [
    "### (b)"
   ]
  },
  {
   "cell_type": "code",
   "execution_count": 3,
   "metadata": {},
   "outputs": [
    {
     "name": "stdout",
     "output_type": "stream",
     "text": [
      "[[0.5 0.  0.  0.5]\n",
      " [0.  0.  0.  0. ]\n",
      " [0.  0.  0.  0. ]\n",
      " [0.5 0.  0.  0.5]]\n"
     ]
    }
   ],
   "source": [
    "dimA, dimB = 2, 2\n",
    "psi = np.array([[1, 0, 0, 1]]) / np.sqrt(2)\n",
    "# psi = np.array([[0, 0, 1, 1]]) / np.sqrt(2)\n",
    "rho = np.outer(psi, psi.conj())\n",
    "# rho = np.array([[0.7, 0.1, 0.2, 0.3],\n",
    "#                 [0.4, 0.5, 0.3, 0.4],\n",
    "#                 [0.2, 0.3, 0.7, 0.5],\n",
    "#                 [0.3, 0.3, 0.4, 0.4]])\n",
    "print(rho)"
   ]
  },
  {
   "cell_type": "code",
   "execution_count": 4,
   "metadata": {},
   "outputs": [
    {
     "name": "stdout",
     "output_type": "stream",
     "text": [
      "rho_a: \n",
      " [[0.5 0. ]\n",
      " [0.  0.5]]\n",
      "rho_b: \n",
      " [[0.5 0. ]\n",
      " [0.  0.5]]\n"
     ]
    }
   ],
   "source": [
    "rho_a, rho_b = partial_trace(rho, dimA, dimB)\n",
    "print(\"rho_a: \\n\", rho_a)\n",
    "print(\"rho_b: \\n\", rho_b)"
   ]
  },
  {
   "cell_type": "markdown",
   "metadata": {},
   "source": [
    "### (c)"
   ]
  },
  {
   "cell_type": "code",
   "execution_count": 5,
   "metadata": {},
   "outputs": [],
   "source": [
    "def construct_random_density_matrix(d):\n",
    "    \"\"\"\n",
    "    Construct a complex random density matrix of dimension d x d.\n",
    "    \"\"\"\n",
    "    # ensure that rho is positive semidefinite\n",
    "    A = (np.random.randn(d, d) + 1j*np.random.randn(d, d))/np.sqrt(2)\n",
    "    rho = A @ A.conj().T\n",
    "    # normalization\n",
    "    rho /= np.trace(rho)\n",
    "    return rho\n",
    "def construct_random_operator(d):\n",
    "    \"\"\"\n",
    "    Construct a complex random Hermitian matrix of dimension d x d.\n",
    "    \"\"\"\n",
    "    # ensure that M is Hermitian\n",
    "    A = (np.random.randn(d, d) + 1j*np.random.randn(d, d))/np.sqrt(2)\n",
    "    M = 0.5*(A + A.conj().T)\n",
    "    return M"
   ]
  },
  {
   "cell_type": "code",
   "execution_count": 6,
   "metadata": {},
   "outputs": [
    {
     "name": "stdout",
     "output_type": "stream",
     "text": [
      "After 1000 rounds of test, all randomly generated test data passed the verification. \n"
     ]
    }
   ],
   "source": [
    "Rounds = 1000\n",
    "\n",
    "for i in range(Rounds):\n",
    "    dimA, dimB = np.random.randint(1, 10), np.random.randint(1, 10)\n",
    "    rho = construct_random_density_matrix(dimA * dimB)\n",
    "    M = construct_random_operator(dimA)\n",
    "    rho_A, _ = partial_trace(rho, dimA, dimB)\n",
    "#     print(\"dimA: \", dimA, \"dimB: \", dimB)\n",
    "    # print(M @ rho_A)\n",
    "#     print(\"tr[M rho_A]: \", np.round(np.trace(M @ rho_A), 10))\n",
    "    # print(np.kron(M, np.identity(dimB)) @ rho)\n",
    "#     print(\"tr[(M crossprod I) rho]\", np.around(np.trace(np.kron(M, np.identity(dimB)) @ rho), 10))\n",
    "    assert np.round(np.trace(M @ rho_A), 10) == np.around(np.trace(np.kron(M, np.identity(dimB)) @ rho), 10)\n",
    "    \n",
    "print(\"After\", Rounds, \"rounds of test, all randomly generated test data passed the verification. \")"
   ]
  }
 ],
 "metadata": {
  "kernelspec": {
   "display_name": "Python 3",
   "language": "python",
   "name": "python3"
  },
  "language_info": {
   "codemirror_mode": {
    "name": "ipython",
    "version": 3
   },
   "file_extension": ".py",
   "mimetype": "text/x-python",
   "name": "python",
   "nbconvert_exporter": "python",
   "pygments_lexer": "ipython3",
   "version": "3.7.9"
  }
 },
 "nbformat": 4,
 "nbformat_minor": 4
}
