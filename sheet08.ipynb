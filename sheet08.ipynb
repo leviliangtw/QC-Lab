{
 "cells": [
  {
   "cell_type": "markdown",
   "metadata": {},
   "source": [
    "# Exercise 8.2"
   ]
  },
  {
   "cell_type": "code",
   "execution_count": 1,
   "metadata": {},
   "outputs": [],
   "source": [
    "import numpy as np\n",
    "\n",
    "def reorder_gate(G, perm):\n",
    "    \"\"\"Adapt gate 'G' to an ordering of the qubits as specified in 'perm'.\n",
    "    \n",
    "    Example, given G = np.kron(np.kron(A, B), C):\n",
    "        reorder_gate(G, [1, 2, 0]) == np.kron(np.kron(B, C), A)\n",
    "    \"\"\"\n",
    "    perm = list(perm)\n",
    "    # number of qubits\n",
    "    n = len(perm)\n",
    "    # reorder both input and output dimensions\n",
    "    perm2 = perm + [n + i for i in perm]\n",
    "    return np.reshape(np.transpose(np.reshape(G, 2*n*[2]), perm2), (2**n, 2**n))"
   ]
  },
  {
   "cell_type": "code",
   "execution_count": 2,
   "metadata": {},
   "outputs": [],
   "source": [
    "H = np.array([\n",
    "    [1/np.sqrt(2), 1/np.sqrt(2)],\n",
    "    [1/np.sqrt(2), -1/np.sqrt(2)],\n",
    "])\n",
    "Controlled_S = np.array([\n",
    "    [1, 0, 0, 0],\n",
    "    [0, 1, 0, 0],\n",
    "    [0, 0, 1, 0],\n",
    "    [0, 0, 0, 1j],\n",
    "])\n",
    "Controlled_T = np.array([\n",
    "    [1, 0, 0, 0],\n",
    "    [0, 1, 0, 0],\n",
    "    [0, 0, 1, 0],\n",
    "    [0, 0, 0, np.exp(1j*np.pi/4)],\n",
    "])\n",
    "CNOT = np.array([\n",
    "    [1, 0, 0, 0],\n",
    "    [0, 1, 0, 0],\n",
    "    [0, 0, 0, 1],\n",
    "    [0, 0, 1, 0],\n",
    "])\n",
    "SWAP = CNOT @ reorder_gate(CNOT, [1, 0]) @ CNOT\n",
    "I = np.identity(2)"
   ]
  },
  {
   "cell_type": "code",
   "execution_count": 3,
   "metadata": {},
   "outputs": [],
   "source": [
    "F_classical = np.array([[np.exp(2*np.pi*1j*j*k/8)/np.sqrt(8) for j in range(8)] for k in range(8)])"
   ]
  },
  {
   "cell_type": "code",
   "execution_count": 4,
   "metadata": {},
   "outputs": [],
   "source": [
    "F_qugate = np.kron(np.kron(H, I), I) @ \\\n",
    "        reorder_gate(np.kron(Controlled_S, I), [1, 0, 2]) @ \\\n",
    "        reorder_gate(np.kron(Controlled_T, I), [1, 2, 0]) @ \\\n",
    "        np.kron(np.kron(I, H), I) @ \\\n",
    "        reorder_gate(np.kron(I, Controlled_S), [0, 2, 1]) @ \\\n",
    "        np.kron(np.kron(I, I), H) @ \\\n",
    "        reorder_gate(np.kron(SWAP, I), [0, 2, 1])"
   ]
  },
  {
   "cell_type": "code",
   "execution_count": 5,
   "metadata": {},
   "outputs": [
    {
     "name": "stdout",
     "output_type": "stream",
     "text": [
      "PASS\n"
     ]
    }
   ],
   "source": [
    "if (np.round(F_classical, 10) == np.around(F_qugate, 10)).all():\n",
    "    print(\"PASS\")"
   ]
  }
 ],
 "metadata": {
  "kernelspec": {
   "display_name": "Python 3",
   "language": "python",
   "name": "python3"
  },
  "language_info": {
   "codemirror_mode": {
    "name": "ipython",
    "version": 3
   },
   "file_extension": ".py",
   "mimetype": "text/x-python",
   "name": "python",
   "nbconvert_exporter": "python",
   "pygments_lexer": "ipython3",
   "version": "3.7.9"
  }
 },
 "nbformat": 4,
 "nbformat_minor": 4
}
